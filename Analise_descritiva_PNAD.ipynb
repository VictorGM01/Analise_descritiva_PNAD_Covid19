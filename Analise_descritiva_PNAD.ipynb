{
  "nbformat": 4,
  "nbformat_minor": 0,
  "metadata": {
    "colab": {
      "name": "Analise_descritiva_PNAD.ipynb",
      "provenance": [],
      "collapsed_sections": [],
      "authorship_tag": "ABX9TyMu2eTRg1dFvjul3cZK939i"
    },
    "kernelspec": {
      "name": "python3",
      "display_name": "Python 3"
    },
    "language_info": {
      "name": "python"
    }
  },
  "cells": [
    {
      "cell_type": "markdown",
      "metadata": {
        "id": "enraO9MfheIh"
      },
      "source": [
        "# **Dataset do Projeto**\n"
      ]
    },
    {
      "cell_type": "markdown",
      "metadata": {
        "id": "Te1_co-3hkur"
      },
      "source": [
        "## **Pesquisa Nacional por Amostra de Domicílios COVID-19 - Setembro 2020**\n",
        "\n",
        "---\n",
        "\n",
        "Objetiva estimar o número de pessoas com sintomas referidos associados à síndrome gripal e monitorar os impactos da pandemia da COVID-19 no mercado de trabalho brasileiro.\n",
        "\n",
        "---\n",
        "\n",
        "**A coleta da Pesquisa Nacional por Amostra de Domicílios - PNAD COVID19** teve início em 4 de maio de 2020, com entrevistas realizadas por telefone em, aproximadamente, 48 mil domicílios por semana, totalizando cerca de 193 mil domicílios por mês, em todo o Território Nacional. A amostra é fixa, ou seja, os domicílios entrevistados no primeiro mês de coleta de dados permanecerão na amostra nos meses subsequentes, até o fim da pesquisa."
      ]
    },
    {
      "cell_type": "markdown",
      "metadata": {
        "id": "Yo31xGL5ilsR"
      },
      "source": [
        "# **Análises Estatísticas**\n",
        "\n"
      ]
    },
    {
      "cell_type": "markdown",
      "metadata": {
        "id": "xKF3kZitcpGC"
      },
      "source": [
        "### Bibliotecas, dataset e dicionarios"
      ]
    },
    {
      "cell_type": "code",
      "metadata": {
        "id": "xIA31I9piwS8"
      },
      "source": [
        "import pandas as pd\n",
        "import seaborn as sns\n",
        "import numpy as np"
      ],
      "execution_count": 52,
      "outputs": []
    },
    {
      "cell_type": "code",
      "metadata": {
        "id": "MxQr7rO1iqjz"
      },
      "source": [
        "dicionario_codigo_uf = {35: \"São Paulo\", 31: \"Minas Gerais\", 43: \"Rio Grande do Sul\", 29: \"Bahia\",\n",
        "                        33: \"Rio de Janeiro\", 15: \"Pará\", 41: \"Paraná\", 26: \"Pernambuco\", 52: \"Goiás\",\n",
        "                        23: \"Ceará\", 42: \"Santa Catarina\", 13: \"Amazonas\", 53: \"Distrito Federal\", 51: \"Mato Grosso\",\n",
        "                        21: \"Maranhão\", 11: \"Rondônia\", 32: \"Espirito Santo\", 50: \"Mato Grosso do Sul\", 17: \"Tocantins\",\n",
        "                        28: \"Sergipe\", 25: \"Paraíba\", 22: \"Piauí\", 24: \"Rio Grande do Norte\", 12: \"Acre\",\n",
        "                        27: \"Alagoas\", 14: \"Roraima\", 16: \"Amapá\"}\n",
        "\n",
        "dicionario_cor = {1: 'Branca',\n",
        "                  2: 'Preta',\n",
        "                  3: 'Amarela',\n",
        "                  4: 'Parda',\n",
        "                  5: 'Indígena',\n",
        "                  9: 'Ignorado'}\n",
        "\n",
        "dicionario_sexo = {1: 'Homem',\n",
        "                   2: 'Mulher'}\n",
        "\n",
        "dicionario_febre = {1: 'Sim',\n",
        "                    2: 'Não',\n",
        "                    3: 'Não Sabe'}\n",
        "\n",
        "dicionario_respostas = {1: 'Positivo', 2: 'Negativo', 3: 'Inconclusivo', 4: 'Ainda Não Recebeu Resultado', 9: 'Ingnorado'}"
      ],
      "execution_count": 109,
      "outputs": []
    },
    {
      "cell_type": "code",
      "metadata": {
        "id": "sVgZRxMJitiI"
      },
      "source": [
        "dados = pd.read_csv('PNAD_COVID_112020.csv')"
      ],
      "execution_count": 56,
      "outputs": []
    },
    {
      "cell_type": "markdown",
      "metadata": {
        "id": "1NWvcp44i_hJ"
      },
      "source": [
        "### **Frequência da Aparição dos Estados**"
      ]
    },
    {
      "cell_type": "code",
      "metadata": {
        "id": "kgFj9rWoi3gT"
      },
      "source": [
        "frequencia_uf = pd.value_counts(dados.UF)\n",
        "frequencia_uf"
      ],
      "execution_count": null,
      "outputs": []
    },
    {
      "cell_type": "code",
      "metadata": {
        "id": "MSwbVVzKjrBi"
      },
      "source": [
        "percentual = pd.value_counts(dados.UF, normalize= True)*100\n",
        "percentual"
      ],
      "execution_count": null,
      "outputs": []
    },
    {
      "cell_type": "code",
      "metadata": {
        "colab": {
          "base_uri": "https://localhost:8080/",
          "height": 886
        },
        "id": "tsOvCQKJkFdQ",
        "outputId": "9d8b7a7f-9265-4db2-92d1-42aa818595cf"
      },
      "source": [
        "distribuicao_de_frequencia_uf = pd.DataFrame({'Frequência': frequencia_uf, 'Porcentagem (%)': percentual})\n",
        "distribuicao_de_frequencia_uf.rename_axis('UF', axis= 'columns', inplace= True)\n",
        "distribuicao_de_frequencia_uf.rename(dicionario_codigo_uf, inplace= True)\n",
        "distribuicao_de_frequencia_uf"
      ],
      "execution_count": 59,
      "outputs": [
        {
          "output_type": "execute_result",
          "data": {
            "text/html": [
              "<div>\n",
              "<style scoped>\n",
              "    .dataframe tbody tr th:only-of-type {\n",
              "        vertical-align: middle;\n",
              "    }\n",
              "\n",
              "    .dataframe tbody tr th {\n",
              "        vertical-align: top;\n",
              "    }\n",
              "\n",
              "    .dataframe thead th {\n",
              "        text-align: right;\n",
              "    }\n",
              "</style>\n",
              "<table border=\"1\" class=\"dataframe\">\n",
              "  <thead>\n",
              "    <tr style=\"text-align: right;\">\n",
              "      <th>UF</th>\n",
              "      <th>Frequência</th>\n",
              "      <th>Porcentagem (%)</th>\n",
              "    </tr>\n",
              "  </thead>\n",
              "  <tbody>\n",
              "    <tr>\n",
              "      <th>Minas Gerais</th>\n",
              "      <td>34339</td>\n",
              "      <td>9.002512</td>\n",
              "    </tr>\n",
              "    <tr>\n",
              "      <th>São Paulo</th>\n",
              "      <td>32104</td>\n",
              "      <td>8.416571</td>\n",
              "    </tr>\n",
              "    <tr>\n",
              "      <th>Rio de Janeiro</th>\n",
              "      <td>29065</td>\n",
              "      <td>7.619849</td>\n",
              "    </tr>\n",
              "    <tr>\n",
              "      <th>Santa Catarina</th>\n",
              "      <td>23432</td>\n",
              "      <td>6.143069</td>\n",
              "    </tr>\n",
              "    <tr>\n",
              "      <th>Rio Grande do Sul</th>\n",
              "      <td>21931</td>\n",
              "      <td>5.749558</td>\n",
              "    </tr>\n",
              "    <tr>\n",
              "      <th>Maranhão</th>\n",
              "      <td>20404</td>\n",
              "      <td>5.349231</td>\n",
              "    </tr>\n",
              "    <tr>\n",
              "      <th>Paraná</th>\n",
              "      <td>19872</td>\n",
              "      <td>5.209759</td>\n",
              "    </tr>\n",
              "    <tr>\n",
              "      <th>Pernambuco</th>\n",
              "      <td>17138</td>\n",
              "      <td>4.492998</td>\n",
              "    </tr>\n",
              "    <tr>\n",
              "      <th>Bahia</th>\n",
              "      <td>17063</td>\n",
              "      <td>4.473335</td>\n",
              "    </tr>\n",
              "    <tr>\n",
              "      <th>Ceará</th>\n",
              "      <td>16182</td>\n",
              "      <td>4.242367</td>\n",
              "    </tr>\n",
              "    <tr>\n",
              "      <th>Espirito Santo</th>\n",
              "      <td>15863</td>\n",
              "      <td>4.158736</td>\n",
              "    </tr>\n",
              "    <tr>\n",
              "      <th>Goiás</th>\n",
              "      <td>14195</td>\n",
              "      <td>3.721444</td>\n",
              "    </tr>\n",
              "    <tr>\n",
              "      <th>Pará</th>\n",
              "      <td>11878</td>\n",
              "      <td>3.114005</td>\n",
              "    </tr>\n",
              "    <tr>\n",
              "      <th>Alagoas</th>\n",
              "      <td>11403</td>\n",
              "      <td>2.989477</td>\n",
              "    </tr>\n",
              "    <tr>\n",
              "      <th>Mato Grosso</th>\n",
              "      <td>11359</td>\n",
              "      <td>2.977941</td>\n",
              "    </tr>\n",
              "    <tr>\n",
              "      <th>Amazonas</th>\n",
              "      <td>10341</td>\n",
              "      <td>2.711057</td>\n",
              "    </tr>\n",
              "    <tr>\n",
              "      <th>Paraíba</th>\n",
              "      <td>9873</td>\n",
              "      <td>2.588363</td>\n",
              "    </tr>\n",
              "    <tr>\n",
              "      <th>Mato Grosso do Sul</th>\n",
              "      <td>8657</td>\n",
              "      <td>2.269569</td>\n",
              "    </tr>\n",
              "    <tr>\n",
              "      <th>Piauí</th>\n",
              "      <td>8480</td>\n",
              "      <td>2.223166</td>\n",
              "    </tr>\n",
              "    <tr>\n",
              "      <th>Sergipe</th>\n",
              "      <td>8013</td>\n",
              "      <td>2.100735</td>\n",
              "    </tr>\n",
              "    <tr>\n",
              "      <th>Rio Grande do Norte</th>\n",
              "      <td>7775</td>\n",
              "      <td>2.038339</td>\n",
              "    </tr>\n",
              "    <tr>\n",
              "      <th>Distrito Federal</th>\n",
              "      <td>6795</td>\n",
              "      <td>1.781417</td>\n",
              "    </tr>\n",
              "    <tr>\n",
              "      <th>Acre</th>\n",
              "      <td>6102</td>\n",
              "      <td>1.599736</td>\n",
              "    </tr>\n",
              "    <tr>\n",
              "      <th>Rondônia</th>\n",
              "      <td>6001</td>\n",
              "      <td>1.573257</td>\n",
              "    </tr>\n",
              "    <tr>\n",
              "      <th>Roraima</th>\n",
              "      <td>5614</td>\n",
              "      <td>1.471799</td>\n",
              "    </tr>\n",
              "    <tr>\n",
              "      <th>Tocantins</th>\n",
              "      <td>5087</td>\n",
              "      <td>1.333637</td>\n",
              "    </tr>\n",
              "    <tr>\n",
              "      <th>Amapá</th>\n",
              "      <td>2472</td>\n",
              "      <td>0.648074</td>\n",
              "    </tr>\n",
              "  </tbody>\n",
              "</table>\n",
              "</div>"
            ],
            "text/plain": [
              "UF                   Frequência  Porcentagem (%)\n",
              "Minas Gerais              34339         9.002512\n",
              "São Paulo                 32104         8.416571\n",
              "Rio de Janeiro            29065         7.619849\n",
              "Santa Catarina            23432         6.143069\n",
              "Rio Grande do Sul         21931         5.749558\n",
              "Maranhão                  20404         5.349231\n",
              "Paraná                    19872         5.209759\n",
              "Pernambuco                17138         4.492998\n",
              "Bahia                     17063         4.473335\n",
              "Ceará                     16182         4.242367\n",
              "Espirito Santo            15863         4.158736\n",
              "Goiás                     14195         3.721444\n",
              "Pará                      11878         3.114005\n",
              "Alagoas                   11403         2.989477\n",
              "Mato Grosso               11359         2.977941\n",
              "Amazonas                  10341         2.711057\n",
              "Paraíba                    9873         2.588363\n",
              "Mato Grosso do Sul         8657         2.269569\n",
              "Piauí                      8480         2.223166\n",
              "Sergipe                    8013         2.100735\n",
              "Rio Grande do Norte        7775         2.038339\n",
              "Distrito Federal           6795         1.781417\n",
              "Acre                       6102         1.599736\n",
              "Rondônia                   6001         1.573257\n",
              "Roraima                    5614         1.471799\n",
              "Tocantins                  5087         1.333637\n",
              "Amapá                      2472         0.648074"
            ]
          },
          "metadata": {},
          "execution_count": 59
        }
      ]
    },
    {
      "cell_type": "markdown",
      "metadata": {
        "id": "0k2QOXbPlVTk"
      },
      "source": [
        "### Gráfico da Frequência de Aparição dos Estados\n",
        "\n",
        "\n"
      ]
    },
    {
      "cell_type": "code",
      "metadata": {
        "colab": {
          "base_uri": "https://localhost:8080/",
          "height": 476
        },
        "id": "YB0C0G7RkgZl",
        "outputId": "2836737e-c857-4754-9541-e2dd0fd27723"
      },
      "source": [
        "ax = sns.distplot(dados.UF, kde= False, color= 'red')\n",
        "ax.figure.set_size_inches(14,6)\n",
        "ax.set_title('Distribuição de Frequência - UF')\n",
        "ax.set_xlabel('Código UF')\n",
        "ax"
      ],
      "execution_count": 60,
      "outputs": [
        {
          "output_type": "stream",
          "text": [
            "/usr/local/lib/python3.7/dist-packages/seaborn/distributions.py:2557: FutureWarning: `distplot` is a deprecated function and will be removed in a future version. Please adapt your code to use either `displot` (a figure-level function with similar flexibility) or `histplot` (an axes-level function for histograms).\n",
            "  warnings.warn(msg, FutureWarning)\n"
          ],
          "name": "stderr"
        },
        {
          "output_type": "execute_result",
          "data": {
            "text/plain": [
              "<matplotlib.axes._subplots.AxesSubplot at 0x7fa456e89390>"
            ]
          },
          "metadata": {},
          "execution_count": 60
        },
        {
          "output_type": "display_data",
          "data": {
            "image/png": "[encoded data removed]",
            "text/plain": [
              "<Figure size 1008x432 with 1 Axes>"
            ]
          },
          "metadata": {
            "needs_background": "light"
          }
        }
      ]
    },
    {
      "cell_type": "markdown",
      "metadata": {
        "id": "kfmlEllInxfy"
      },
      "source": [
        "### Análise das Respostas do Teste de COVID"
      ]
    },
    {
      "cell_type": "code",
      "metadata": {
        "id": "B_5TIO5cyy7C"
      },
      "source": [
        ""
      ],
      "execution_count": null,
      "outputs": []
    },
    {
      "cell_type": "code",
      "metadata": {
        "id": "9tAfoa75mAMh"
      },
      "source": [
        "casos_por_estado_freq = dados['B009B'].value_counts()\n",
        "casos_por_estado_freq"
      ],
      "execution_count": null,
      "outputs": []
    },
    {
      "cell_type": "code",
      "metadata": {
        "id": "EIp-PigDqcS3"
      },
      "source": [
        "casos_por_estado_perc = dados['B009B'].value_counts(normalize=True)*100\n",
        "casos_por_estado_perc"
      ],
      "execution_count": null,
      "outputs": []
    },
    {
      "cell_type": "code",
      "metadata": {
        "colab": {
          "base_uri": "https://localhost:8080/",
          "height": 204
        },
        "id": "djDo1M1dpCxs",
        "outputId": "1e88bef1-ef58-4948-dae5-4e9c17f44974"
      },
      "source": [
        "distribuicao_respostas = pd.DataFrame({'Frequência': casos_por_estado_freq, 'Porcentagem(%)': casos_por_estado_perc})\n",
        "distribuicao_respostas.rename(dicionario_respostas, inplace= True)\n",
        "distribuicao_respostas"
      ],
      "execution_count": 64,
      "outputs": [
        {
          "output_type": "execute_result",
          "data": {
            "text/html": [
              "<div>\n",
              "<style scoped>\n",
              "    .dataframe tbody tr th:only-of-type {\n",
              "        vertical-align: middle;\n",
              "    }\n",
              "\n",
              "    .dataframe tbody tr th {\n",
              "        vertical-align: top;\n",
              "    }\n",
              "\n",
              "    .dataframe thead th {\n",
              "        text-align: right;\n",
              "    }\n",
              "</style>\n",
              "<table border=\"1\" class=\"dataframe\">\n",
              "  <thead>\n",
              "    <tr style=\"text-align: right;\">\n",
              "      <th></th>\n",
              "      <th>Frequência</th>\n",
              "      <th>Porcentagem(%)</th>\n",
              "    </tr>\n",
              "  </thead>\n",
              "  <tbody>\n",
              "    <tr>\n",
              "      <th>Negativo</th>\n",
              "      <td>13564</td>\n",
              "      <td>67.630634</td>\n",
              "    </tr>\n",
              "    <tr>\n",
              "      <th>Positivo</th>\n",
              "      <td>5789</td>\n",
              "      <td>28.864180</td>\n",
              "    </tr>\n",
              "    <tr>\n",
              "      <th>Ainda Não Recebeu Resultado</th>\n",
              "      <td>594</td>\n",
              "      <td>2.961707</td>\n",
              "    </tr>\n",
              "    <tr>\n",
              "      <th>Inconclusivo</th>\n",
              "      <td>104</td>\n",
              "      <td>0.518548</td>\n",
              "    </tr>\n",
              "    <tr>\n",
              "      <th>Ingnorado</th>\n",
              "      <td>5</td>\n",
              "      <td>0.024930</td>\n",
              "    </tr>\n",
              "  </tbody>\n",
              "</table>\n",
              "</div>"
            ],
            "text/plain": [
              "                             Frequência  Porcentagem(%)\n",
              "Negativo                          13564       67.630634\n",
              "Positivo                           5789       28.864180\n",
              "Ainda Não Recebeu Resultado         594        2.961707\n",
              "Inconclusivo                        104        0.518548\n",
              "Ingnorado                             5        0.024930"
            ]
          },
          "metadata": {},
          "execution_count": 64
        }
      ]
    },
    {
      "cell_type": "code",
      "metadata": {
        "colab": {
          "base_uri": "https://localhost:8080/",
          "height": 483
        },
        "id": "mg_rxilxpqht",
        "outputId": "47e54654-87eb-4507-840f-f74860f020fc"
      },
      "source": [
        "ax = sns.distplot(dados['B009B'], kde= False, bins= 30, color= 'g')\n",
        "ax.figure.set_size_inches(14,6)\n",
        "ax.set_title('Distribuição dos Resultados do Teste da Covid-19', fontsize= 18)\n",
        "ax.set_xlabel(dicionario_respostas, fontsize= 14)\n",
        "ax.set_ylabel('Respostas', fontsize= 14)\n",
        "ax"
      ],
      "execution_count": 65,
      "outputs": [
        {
          "output_type": "stream",
          "text": [
            "/usr/local/lib/python3.7/dist-packages/seaborn/distributions.py:2557: FutureWarning: `distplot` is a deprecated function and will be removed in a future version. Please adapt your code to use either `displot` (a figure-level function with similar flexibility) or `histplot` (an axes-level function for histograms).\n",
            "  warnings.warn(msg, FutureWarning)\n"
          ],
          "name": "stderr"
        },
        {
          "output_type": "execute_result",
          "data": {
            "text/plain": [
              "<matplotlib.axes._subplots.AxesSubplot at 0x7fa456e4d4d0>"
            ]
          },
          "metadata": {},
          "execution_count": 65
        },
        {
          "output_type": "display_data",
          "data": {
            "image/png": "[encoded data removed]",
            "text/plain": [
              "<Figure size 1008x432 with 1 Axes>"
            ]
          },
          "metadata": {
            "needs_background": "light"
          }
        }
      ]
    },
    {
      "cell_type": "markdown",
      "metadata": {
        "id": "-0LGTTwulVDw"
      },
      "source": [
        "**Idade dos Infectados**"
      ]
    },
    {
      "cell_type": "code",
      "metadata": {
        "colab": {
          "base_uri": "https://localhost:8080/",
          "height": 191
        },
        "id": "c-9FoJfbnNTN",
        "outputId": "ba09d241-c382-48ed-9d17-f973335725f0"
      },
      "source": [
        "afetados_por_idade = pd.crosstab(index= dados.B009B, columns= dados.A002,)\n",
        "afetados_por_idade.drop(labels= 9, inplace=True)\n",
        "afetados_por_idade.drop(labels= 4, inplace=True)\n",
        "afetados_por_idade.drop(labels= 3, inplace=True)\n",
        "afetados_por_idade.rename(dicionario_respostas, inplace=True)\n",
        "afetados_por_idade.rename_axis('Idade', axis= 'columns', inplace=True)\n",
        "afetados_por_idade.rename_axis('Resultado', axis= 0, inplace=True)\n",
        "afetados_por_idade\n"
      ],
      "execution_count": 130,
      "outputs": [
        {
          "output_type": "execute_result",
          "data": {
            "text/html": [
              "<div>\n",
              "<style scoped>\n",
              "    .dataframe tbody tr th:only-of-type {\n",
              "        vertical-align: middle;\n",
              "    }\n",
              "\n",
              "    .dataframe tbody tr th {\n",
              "        vertical-align: top;\n",
              "    }\n",
              "\n",
              "    .dataframe thead th {\n",
              "        text-align: right;\n",
              "    }\n",
              "</style>\n",
              "<table border=\"1\" class=\"dataframe\">\n",
              "  <thead>\n",
              "    <tr style=\"text-align: right;\">\n",
              "      <th>Idade</th>\n",
              "      <th>0</th>\n",
              "      <th>1</th>\n",
              "      <th>2</th>\n",
              "      <th>3</th>\n",
              "      <th>4</th>\n",
              "      <th>5</th>\n",
              "      <th>6</th>\n",
              "      <th>7</th>\n",
              "      <th>8</th>\n",
              "      <th>9</th>\n",
              "      <th>10</th>\n",
              "      <th>11</th>\n",
              "      <th>12</th>\n",
              "      <th>13</th>\n",
              "      <th>14</th>\n",
              "      <th>15</th>\n",
              "      <th>16</th>\n",
              "      <th>17</th>\n",
              "      <th>18</th>\n",
              "      <th>19</th>\n",
              "      <th>20</th>\n",
              "      <th>21</th>\n",
              "      <th>22</th>\n",
              "      <th>23</th>\n",
              "      <th>24</th>\n",
              "      <th>25</th>\n",
              "      <th>26</th>\n",
              "      <th>27</th>\n",
              "      <th>28</th>\n",
              "      <th>29</th>\n",
              "      <th>30</th>\n",
              "      <th>31</th>\n",
              "      <th>32</th>\n",
              "      <th>33</th>\n",
              "      <th>34</th>\n",
              "      <th>35</th>\n",
              "      <th>36</th>\n",
              "      <th>37</th>\n",
              "      <th>38</th>\n",
              "      <th>39</th>\n",
              "      <th>...</th>\n",
              "      <th>63</th>\n",
              "      <th>64</th>\n",
              "      <th>65</th>\n",
              "      <th>66</th>\n",
              "      <th>67</th>\n",
              "      <th>68</th>\n",
              "      <th>69</th>\n",
              "      <th>70</th>\n",
              "      <th>71</th>\n",
              "      <th>72</th>\n",
              "      <th>73</th>\n",
              "      <th>74</th>\n",
              "      <th>75</th>\n",
              "      <th>76</th>\n",
              "      <th>77</th>\n",
              "      <th>78</th>\n",
              "      <th>79</th>\n",
              "      <th>80</th>\n",
              "      <th>81</th>\n",
              "      <th>82</th>\n",
              "      <th>83</th>\n",
              "      <th>84</th>\n",
              "      <th>85</th>\n",
              "      <th>86</th>\n",
              "      <th>87</th>\n",
              "      <th>88</th>\n",
              "      <th>89</th>\n",
              "      <th>90</th>\n",
              "      <th>91</th>\n",
              "      <th>92</th>\n",
              "      <th>93</th>\n",
              "      <th>94</th>\n",
              "      <th>95</th>\n",
              "      <th>96</th>\n",
              "      <th>98</th>\n",
              "      <th>99</th>\n",
              "      <th>101</th>\n",
              "      <th>102</th>\n",
              "      <th>105</th>\n",
              "      <th>111</th>\n",
              "    </tr>\n",
              "    <tr>\n",
              "      <th>Resultado</th>\n",
              "      <th></th>\n",
              "      <th></th>\n",
              "      <th></th>\n",
              "      <th></th>\n",
              "      <th></th>\n",
              "      <th></th>\n",
              "      <th></th>\n",
              "      <th></th>\n",
              "      <th></th>\n",
              "      <th></th>\n",
              "      <th></th>\n",
              "      <th></th>\n",
              "      <th></th>\n",
              "      <th></th>\n",
              "      <th></th>\n",
              "      <th></th>\n",
              "      <th></th>\n",
              "      <th></th>\n",
              "      <th></th>\n",
              "      <th></th>\n",
              "      <th></th>\n",
              "      <th></th>\n",
              "      <th></th>\n",
              "      <th></th>\n",
              "      <th></th>\n",
              "      <th></th>\n",
              "      <th></th>\n",
              "      <th></th>\n",
              "      <th></th>\n",
              "      <th></th>\n",
              "      <th></th>\n",
              "      <th></th>\n",
              "      <th></th>\n",
              "      <th></th>\n",
              "      <th></th>\n",
              "      <th></th>\n",
              "      <th></th>\n",
              "      <th></th>\n",
              "      <th></th>\n",
              "      <th></th>\n",
              "      <th></th>\n",
              "      <th></th>\n",
              "      <th></th>\n",
              "      <th></th>\n",
              "      <th></th>\n",
              "      <th></th>\n",
              "      <th></th>\n",
              "      <th></th>\n",
              "      <th></th>\n",
              "      <th></th>\n",
              "      <th></th>\n",
              "      <th></th>\n",
              "      <th></th>\n",
              "      <th></th>\n",
              "      <th></th>\n",
              "      <th></th>\n",
              "      <th></th>\n",
              "      <th></th>\n",
              "      <th></th>\n",
              "      <th></th>\n",
              "      <th></th>\n",
              "      <th></th>\n",
              "      <th></th>\n",
              "      <th></th>\n",
              "      <th></th>\n",
              "      <th></th>\n",
              "      <th></th>\n",
              "      <th></th>\n",
              "      <th></th>\n",
              "      <th></th>\n",
              "      <th></th>\n",
              "      <th></th>\n",
              "      <th></th>\n",
              "      <th></th>\n",
              "      <th></th>\n",
              "      <th></th>\n",
              "      <th></th>\n",
              "      <th></th>\n",
              "      <th></th>\n",
              "      <th></th>\n",
              "      <th></th>\n",
              "    </tr>\n",
              "  </thead>\n",
              "  <tbody>\n",
              "    <tr>\n",
              "      <th>Positivo</th>\n",
              "      <td>9</td>\n",
              "      <td>14</td>\n",
              "      <td>26</td>\n",
              "      <td>13</td>\n",
              "      <td>15</td>\n",
              "      <td>19</td>\n",
              "      <td>11</td>\n",
              "      <td>19</td>\n",
              "      <td>21</td>\n",
              "      <td>22</td>\n",
              "      <td>21</td>\n",
              "      <td>24</td>\n",
              "      <td>23</td>\n",
              "      <td>35</td>\n",
              "      <td>40</td>\n",
              "      <td>34</td>\n",
              "      <td>36</td>\n",
              "      <td>41</td>\n",
              "      <td>37</td>\n",
              "      <td>64</td>\n",
              "      <td>77</td>\n",
              "      <td>65</td>\n",
              "      <td>76</td>\n",
              "      <td>95</td>\n",
              "      <td>109</td>\n",
              "      <td>124</td>\n",
              "      <td>108</td>\n",
              "      <td>109</td>\n",
              "      <td>97</td>\n",
              "      <td>100</td>\n",
              "      <td>125</td>\n",
              "      <td>124</td>\n",
              "      <td>134</td>\n",
              "      <td>150</td>\n",
              "      <td>134</td>\n",
              "      <td>133</td>\n",
              "      <td>137</td>\n",
              "      <td>135</td>\n",
              "      <td>128</td>\n",
              "      <td>154</td>\n",
              "      <td>...</td>\n",
              "      <td>45</td>\n",
              "      <td>61</td>\n",
              "      <td>51</td>\n",
              "      <td>31</td>\n",
              "      <td>49</td>\n",
              "      <td>39</td>\n",
              "      <td>34</td>\n",
              "      <td>40</td>\n",
              "      <td>28</td>\n",
              "      <td>20</td>\n",
              "      <td>32</td>\n",
              "      <td>21</td>\n",
              "      <td>12</td>\n",
              "      <td>21</td>\n",
              "      <td>8</td>\n",
              "      <td>10</td>\n",
              "      <td>13</td>\n",
              "      <td>15</td>\n",
              "      <td>11</td>\n",
              "      <td>8</td>\n",
              "      <td>5</td>\n",
              "      <td>8</td>\n",
              "      <td>5</td>\n",
              "      <td>7</td>\n",
              "      <td>8</td>\n",
              "      <td>4</td>\n",
              "      <td>4</td>\n",
              "      <td>9</td>\n",
              "      <td>1</td>\n",
              "      <td>1</td>\n",
              "      <td>2</td>\n",
              "      <td>0</td>\n",
              "      <td>2</td>\n",
              "      <td>0</td>\n",
              "      <td>0</td>\n",
              "      <td>1</td>\n",
              "      <td>0</td>\n",
              "      <td>0</td>\n",
              "      <td>0</td>\n",
              "      <td>0</td>\n",
              "    </tr>\n",
              "    <tr>\n",
              "      <th>Negativo</th>\n",
              "      <td>21</td>\n",
              "      <td>61</td>\n",
              "      <td>55</td>\n",
              "      <td>59</td>\n",
              "      <td>54</td>\n",
              "      <td>47</td>\n",
              "      <td>56</td>\n",
              "      <td>54</td>\n",
              "      <td>58</td>\n",
              "      <td>77</td>\n",
              "      <td>77</td>\n",
              "      <td>65</td>\n",
              "      <td>66</td>\n",
              "      <td>71</td>\n",
              "      <td>82</td>\n",
              "      <td>79</td>\n",
              "      <td>133</td>\n",
              "      <td>143</td>\n",
              "      <td>157</td>\n",
              "      <td>170</td>\n",
              "      <td>216</td>\n",
              "      <td>231</td>\n",
              "      <td>213</td>\n",
              "      <td>247</td>\n",
              "      <td>268</td>\n",
              "      <td>243</td>\n",
              "      <td>228</td>\n",
              "      <td>264</td>\n",
              "      <td>263</td>\n",
              "      <td>234</td>\n",
              "      <td>219</td>\n",
              "      <td>286</td>\n",
              "      <td>299</td>\n",
              "      <td>263</td>\n",
              "      <td>252</td>\n",
              "      <td>288</td>\n",
              "      <td>293</td>\n",
              "      <td>330</td>\n",
              "      <td>309</td>\n",
              "      <td>320</td>\n",
              "      <td>...</td>\n",
              "      <td>134</td>\n",
              "      <td>134</td>\n",
              "      <td>125</td>\n",
              "      <td>111</td>\n",
              "      <td>114</td>\n",
              "      <td>111</td>\n",
              "      <td>82</td>\n",
              "      <td>75</td>\n",
              "      <td>68</td>\n",
              "      <td>83</td>\n",
              "      <td>78</td>\n",
              "      <td>42</td>\n",
              "      <td>48</td>\n",
              "      <td>60</td>\n",
              "      <td>49</td>\n",
              "      <td>46</td>\n",
              "      <td>38</td>\n",
              "      <td>37</td>\n",
              "      <td>24</td>\n",
              "      <td>33</td>\n",
              "      <td>35</td>\n",
              "      <td>28</td>\n",
              "      <td>24</td>\n",
              "      <td>16</td>\n",
              "      <td>10</td>\n",
              "      <td>7</td>\n",
              "      <td>16</td>\n",
              "      <td>11</td>\n",
              "      <td>11</td>\n",
              "      <td>7</td>\n",
              "      <td>5</td>\n",
              "      <td>5</td>\n",
              "      <td>3</td>\n",
              "      <td>4</td>\n",
              "      <td>1</td>\n",
              "      <td>1</td>\n",
              "      <td>1</td>\n",
              "      <td>0</td>\n",
              "      <td>1</td>\n",
              "      <td>1</td>\n",
              "    </tr>\n",
              "  </tbody>\n",
              "</table>\n",
              "<p>2 rows × 103 columns</p>\n",
              "</div>"
            ],
            "text/plain": [
              "Idade      0    1    2    3    4    5    6    ...  96   98   99   101  102  105  111\n",
              "Resultado                                     ...                                   \n",
              "Positivo     9   14   26   13   15   19   11  ...    0    0    1    0    0    0    0\n",
              "Negativo    21   61   55   59   54   47   56  ...    4    1    1    1    0    1    1\n",
              "\n",
              "[2 rows x 103 columns]"
            ]
          },
          "metadata": {},
          "execution_count": 130
        }
      ]
    },
    {
      "cell_type": "markdown",
      "metadata": {
        "id": "_BnPN8R2wqyV"
      },
      "source": [
        "### Resultado do Teste - SP"
      ]
    },
    {
      "cell_type": "code",
      "metadata": {
        "id": "3n_ztI_qwvcN"
      },
      "source": [
        "numero_de_respostas = dados.groupby('UF')['B009B'].value_counts()\n",
        "numero_de_respostas"
      ],
      "execution_count": null,
      "outputs": []
    },
    {
      "cell_type": "code",
      "metadata": {
        "id": "BQYvVxZCxF-T"
      },
      "source": [
        "percentual = dados.groupby('UF')['B009B'].value_counts(normalize= True)*100\n",
        "percentual"
      ],
      "execution_count": null,
      "outputs": []
    },
    {
      "cell_type": "code",
      "metadata": {
        "id": "qkJ6rZiDxVP7"
      },
      "source": [
        "distribuicao_respostas = pd.DataFrame({'Frequência': numero_de_respostas, 'Porcentagem (%)': percentual})\n",
        "distribuicao_respostas.rename(dicionario_codigo_uf, inplace= True)\n",
        "distribuicao_respostas.rename(dicionario_respostas, inplace= True)\n",
        "distribuicao_respostas"
      ],
      "execution_count": null,
      "outputs": []
    },
    {
      "cell_type": "code",
      "metadata": {
        "colab": {
          "base_uri": "https://localhost:8080/",
          "height": 204
        },
        "id": "Li8tCKF9xoCg",
        "outputId": "e20b97f9-c7a0-40b7-91c8-c0f03d36c40a"
      },
      "source": [
        "distribuicao_sp = distribuicao_respostas.filter(like= 'São Paulo', axis= 0)\n",
        "distribuicao_sp"
      ],
      "execution_count": 69,
      "outputs": [
        {
          "output_type": "execute_result",
          "data": {
            "text/html": [
              "<div>\n",
              "<style scoped>\n",
              "    .dataframe tbody tr th:only-of-type {\n",
              "        vertical-align: middle;\n",
              "    }\n",
              "\n",
              "    .dataframe tbody tr th {\n",
              "        vertical-align: top;\n",
              "    }\n",
              "\n",
              "    .dataframe thead th {\n",
              "        text-align: right;\n",
              "    }\n",
              "</style>\n",
              "<table border=\"1\" class=\"dataframe\">\n",
              "  <thead>\n",
              "    <tr style=\"text-align: right;\">\n",
              "      <th></th>\n",
              "      <th></th>\n",
              "      <th>Frequência</th>\n",
              "      <th>Porcentagem (%)</th>\n",
              "    </tr>\n",
              "    <tr>\n",
              "      <th>UF</th>\n",
              "      <th>B009B</th>\n",
              "      <th></th>\n",
              "      <th></th>\n",
              "    </tr>\n",
              "  </thead>\n",
              "  <tbody>\n",
              "    <tr>\n",
              "      <th rowspan=\"4\" valign=\"top\">São Paulo</th>\n",
              "      <th>Negativo</th>\n",
              "      <td>1807</td>\n",
              "      <td>73.694943</td>\n",
              "    </tr>\n",
              "    <tr>\n",
              "      <th>Positivo</th>\n",
              "      <td>567</td>\n",
              "      <td>23.123980</td>\n",
              "    </tr>\n",
              "    <tr>\n",
              "      <th>Ainda Não Recebeu Resultado</th>\n",
              "      <td>63</td>\n",
              "      <td>2.569331</td>\n",
              "    </tr>\n",
              "    <tr>\n",
              "      <th>Inconclusivo</th>\n",
              "      <td>15</td>\n",
              "      <td>0.611746</td>\n",
              "    </tr>\n",
              "  </tbody>\n",
              "</table>\n",
              "</div>"
            ],
            "text/plain": [
              "                                       Frequência  Porcentagem (%)\n",
              "UF        B009B                                                   \n",
              "São Paulo Negativo                           1807        73.694943\n",
              "          Positivo                            567        23.123980\n",
              "          Ainda Não Recebeu Resultado          63         2.569331\n",
              "          Inconclusivo                         15         0.611746"
            ]
          },
          "metadata": {},
          "execution_count": 69
        }
      ]
    },
    {
      "cell_type": "markdown",
      "metadata": {
        "id": "F-EDta3e1muY"
      },
      "source": [
        "### Frequência de Respostas com base no Sexo e Cor"
      ]
    },
    {
      "cell_type": "code",
      "metadata": {
        "id": "4mcVzYh11xcR"
      },
      "source": [
        "frequencia = dados.A003.value_counts()"
      ],
      "execution_count": 75,
      "outputs": []
    },
    {
      "cell_type": "code",
      "metadata": {
        "id": "D0jyX4SR2bcY"
      },
      "source": [
        "percentual = dados.A003.value_counts(normalize= True)*100"
      ],
      "execution_count": 76,
      "outputs": []
    },
    {
      "cell_type": "code",
      "metadata": {
        "colab": {
          "base_uri": "https://localhost:8080/",
          "height": 111
        },
        "id": "QYsKZUVr2t2f",
        "outputId": "ed6c318f-3cf2-4e65-a727-9dd8761dce16"
      },
      "source": [
        "dist_frequencia = pd.DataFrame({'Frequência': frequencia, 'Porcentagem': percentual})\n",
        "dist_frequencia.rename_axis('Sexo', axis= 1, inplace= True)\n",
        "dist_frequencia.rename(dicionario_sexo, inplace= True)\n",
        "dist_frequencia"
      ],
      "execution_count": 72,
      "outputs": [
        {
          "output_type": "execute_result",
          "data": {
            "text/html": [
              "<div>\n",
              "<style scoped>\n",
              "    .dataframe tbody tr th:only-of-type {\n",
              "        vertical-align: middle;\n",
              "    }\n",
              "\n",
              "    .dataframe tbody tr th {\n",
              "        vertical-align: top;\n",
              "    }\n",
              "\n",
              "    .dataframe thead th {\n",
              "        text-align: right;\n",
              "    }\n",
              "</style>\n",
              "<table border=\"1\" class=\"dataframe\">\n",
              "  <thead>\n",
              "    <tr style=\"text-align: right;\">\n",
              "      <th>Sexo</th>\n",
              "      <th>Frequência</th>\n",
              "      <th>Porcentagem</th>\n",
              "    </tr>\n",
              "  </thead>\n",
              "  <tbody>\n",
              "    <tr>\n",
              "      <th>Mulher</th>\n",
              "      <td>198827</td>\n",
              "      <td>52.12564</td>\n",
              "    </tr>\n",
              "    <tr>\n",
              "      <th>Homem</th>\n",
              "      <td>182611</td>\n",
              "      <td>47.87436</td>\n",
              "    </tr>\n",
              "  </tbody>\n",
              "</table>\n",
              "</div>"
            ],
            "text/plain": [
              "Sexo    Frequência  Porcentagem\n",
              "Mulher      198827     52.12564\n",
              "Homem       182611     47.87436"
            ]
          },
          "metadata": {},
          "execution_count": 72
        }
      ]
    },
    {
      "cell_type": "code",
      "metadata": {
        "colab": {
          "base_uri": "https://localhost:8080/",
          "height": 142
        },
        "id": "9NiL7kV74fkp",
        "outputId": "0d705687-81c9-49eb-ed3b-6f62ac0ae9f7"
      },
      "source": [
        "dist_frequencia = pd.crosstab(dados.A003, dados.A004)\n",
        "dist_frequencia.rename(index= dicionario_sexo, inplace=True)\n",
        "dist_frequencia.rename(columns= dicionario_cor, inplace=True)\n",
        "dist_frequencia"
      ],
      "execution_count": 73,
      "outputs": [
        {
          "output_type": "execute_result",
          "data": {
            "text/html": [
              "<div>\n",
              "<style scoped>\n",
              "    .dataframe tbody tr th:only-of-type {\n",
              "        vertical-align: middle;\n",
              "    }\n",
              "\n",
              "    .dataframe tbody tr th {\n",
              "        vertical-align: top;\n",
              "    }\n",
              "\n",
              "    .dataframe thead th {\n",
              "        text-align: right;\n",
              "    }\n",
              "</style>\n",
              "<table border=\"1\" class=\"dataframe\">\n",
              "  <thead>\n",
              "    <tr style=\"text-align: right;\">\n",
              "      <th>A004</th>\n",
              "      <th>Branca</th>\n",
              "      <th>Preta</th>\n",
              "      <th>Amarela</th>\n",
              "      <th>Parda</th>\n",
              "      <th>Indígena</th>\n",
              "      <th>Ignorado</th>\n",
              "    </tr>\n",
              "    <tr>\n",
              "      <th>A003</th>\n",
              "      <th></th>\n",
              "      <th></th>\n",
              "      <th></th>\n",
              "      <th></th>\n",
              "      <th></th>\n",
              "      <th></th>\n",
              "    </tr>\n",
              "  </thead>\n",
              "  <tbody>\n",
              "    <tr>\n",
              "      <th>Homem</th>\n",
              "      <td>74657</td>\n",
              "      <td>15544</td>\n",
              "      <td>1038</td>\n",
              "      <td>90647</td>\n",
              "      <td>685</td>\n",
              "      <td>40</td>\n",
              "    </tr>\n",
              "    <tr>\n",
              "      <th>Mulher</th>\n",
              "      <td>84599</td>\n",
              "      <td>15860</td>\n",
              "      <td>1202</td>\n",
              "      <td>96307</td>\n",
              "      <td>803</td>\n",
              "      <td>56</td>\n",
              "    </tr>\n",
              "  </tbody>\n",
              "</table>\n",
              "</div>"
            ],
            "text/plain": [
              "A004    Branca  Preta  Amarela  Parda  Indígena  Ignorado\n",
              "A003                                                     \n",
              "Homem    74657  15544     1038  90647       685        40\n",
              "Mulher   84599  15860     1202  96307       803        56"
            ]
          },
          "metadata": {},
          "execution_count": 73
        }
      ]
    },
    {
      "cell_type": "code",
      "metadata": {
        "id": "XwXW8YYg441U"
      },
      "source": [
        "dist_percentual = pd.crosstab(dados.A003, dados.A004, normalize=True)*100\n",
        "dist_percentual.rename(index= dicionario_sexo, inplace=True)\n",
        "dist_percentual.rename(columns= dicionario_cor, inplace=True)"
      ],
      "execution_count": 77,
      "outputs": []
    },
    {
      "cell_type": "markdown",
      "metadata": {
        "id": "kvf0Ag2OcPiq"
      },
      "source": [
        "### Porcentagem de Pessoas com Sintomas da Covid"
      ]
    },
    {
      "cell_type": "markdown",
      "metadata": {
        "id": "5HJLlfBFdYM6"
      },
      "source": [
        "Febre"
      ]
    },
    {
      "cell_type": "code",
      "metadata": {
        "id": "wBdBh_te5aCZ",
        "colab": {
          "base_uri": "https://localhost:8080/",
          "height": 142
        },
        "outputId": "16b4efda-cdd7-4a5d-a59f-1686aed70ef4"
      },
      "source": [
        "respostas  = dados.B0011.value_counts()\n",
        "percentual = dados.B0011.value_counts(normalize=True)*100\n",
        "percentual = round(percentual, 2)\n",
        "\n",
        "df = pd.DataFrame({'Respostas': respostas, 'Porcentagem (%)': percentual})\n",
        "df.rename(dicionario_febre, inplace=True)\n",
        "df.rename_axis('Teve Febre?', axis= 'columns', inplace=True)\n",
        "df.drop(labels= 9)"
      ],
      "execution_count": 94,
      "outputs": [
        {
          "output_type": "execute_result",
          "data": {
            "text/html": [
              "<div>\n",
              "<style scoped>\n",
              "    .dataframe tbody tr th:only-of-type {\n",
              "        vertical-align: middle;\n",
              "    }\n",
              "\n",
              "    .dataframe tbody tr th {\n",
              "        vertical-align: top;\n",
              "    }\n",
              "\n",
              "    .dataframe thead th {\n",
              "        text-align: right;\n",
              "    }\n",
              "</style>\n",
              "<table border=\"1\" class=\"dataframe\">\n",
              "  <thead>\n",
              "    <tr style=\"text-align: right;\">\n",
              "      <th>Teve Febre?</th>\n",
              "      <th>Respostas</th>\n",
              "      <th>Porcentagem (%)</th>\n",
              "    </tr>\n",
              "  </thead>\n",
              "  <tbody>\n",
              "    <tr>\n",
              "      <th>Não</th>\n",
              "      <td>377080</td>\n",
              "      <td>98.86</td>\n",
              "    </tr>\n",
              "    <tr>\n",
              "      <th>Sim</th>\n",
              "      <td>3168</td>\n",
              "      <td>0.83</td>\n",
              "    </tr>\n",
              "    <tr>\n",
              "      <th>Não Sabe</th>\n",
              "      <td>206</td>\n",
              "      <td>0.05</td>\n",
              "    </tr>\n",
              "  </tbody>\n",
              "</table>\n",
              "</div>"
            ],
            "text/plain": [
              "Teve Febre?  Respostas  Porcentagem (%)\n",
              "Não             377080            98.86\n",
              "Sim               3168             0.83\n",
              "Não Sabe           206             0.05"
            ]
          },
          "metadata": {},
          "execution_count": 94
        }
      ]
    },
    {
      "cell_type": "markdown",
      "metadata": {
        "id": "YTaUgQW-fggd"
      },
      "source": [
        "**Tosse**"
      ]
    },
    {
      "cell_type": "code",
      "metadata": {
        "colab": {
          "base_uri": "https://localhost:8080/",
          "height": 142
        },
        "id": "snfxVdztdwZL",
        "outputId": "c001b507-a7b4-4d14-c806-3764f3af2a23"
      },
      "source": [
        "respostas  = dados.B0012.value_counts()\n",
        "percentual = dados.B0012.value_counts(normalize=True)*100\n",
        "percentual = round(percentual, 2)\n",
        "\n",
        "df = pd.DataFrame({'Respostas': respostas, 'Porcentagem (%)': percentual})\n",
        "df.rename(dicionario_febre, inplace=True)\n",
        "df.rename_axis('Teve Tosse?', axis= 'columns', inplace=True)\n",
        "df.drop(labels= 9)"
      ],
      "execution_count": 93,
      "outputs": [
        {
          "output_type": "execute_result",
          "data": {
            "text/html": [
              "<div>\n",
              "<style scoped>\n",
              "    .dataframe tbody tr th:only-of-type {\n",
              "        vertical-align: middle;\n",
              "    }\n",
              "\n",
              "    .dataframe tbody tr th {\n",
              "        vertical-align: top;\n",
              "    }\n",
              "\n",
              "    .dataframe thead th {\n",
              "        text-align: right;\n",
              "    }\n",
              "</style>\n",
              "<table border=\"1\" class=\"dataframe\">\n",
              "  <thead>\n",
              "    <tr style=\"text-align: right;\">\n",
              "      <th>Teve Tosse?</th>\n",
              "      <th>Respostas</th>\n",
              "      <th>Porcentagem (%)</th>\n",
              "    </tr>\n",
              "  </thead>\n",
              "  <tbody>\n",
              "    <tr>\n",
              "      <th>Não</th>\n",
              "      <td>374980</td>\n",
              "      <td>98.31</td>\n",
              "    </tr>\n",
              "    <tr>\n",
              "      <th>Sim</th>\n",
              "      <td>5259</td>\n",
              "      <td>1.38</td>\n",
              "    </tr>\n",
              "    <tr>\n",
              "      <th>Não Sabe</th>\n",
              "      <td>211</td>\n",
              "      <td>0.06</td>\n",
              "    </tr>\n",
              "  </tbody>\n",
              "</table>\n",
              "</div>"
            ],
            "text/plain": [
              "Teve Tosse?  Respostas  Porcentagem (%)\n",
              "Não             374980            98.31\n",
              "Sim               5259             1.38\n",
              "Não Sabe           211             0.06"
            ]
          },
          "metadata": {},
          "execution_count": 93
        }
      ]
    },
    {
      "cell_type": "markdown",
      "metadata": {
        "id": "zhDpc0hmgI5m"
      },
      "source": [
        "**Dificuldade para Respirar**"
      ]
    },
    {
      "cell_type": "code",
      "metadata": {
        "colab": {
          "base_uri": "https://localhost:8080/",
          "height": 142
        },
        "id": "MVY-6blkgVAI",
        "outputId": "8b8aaca5-5e7f-4a49-de7b-15ab9d5d30e0"
      },
      "source": [
        "respostas  = dados.B0014.value_counts()\n",
        "percentual = dados.B0014.value_counts(normalize=True)*100\n",
        "percentual = round(percentual, 2)\n",
        "\n",
        "df = pd.DataFrame({'Respostas': respostas, 'Porcentagem (%)': percentual})\n",
        "df.rename(dicionario_febre, inplace=True)\n",
        "df.rename_axis('Teve dificuldade para respirar?', axis= 'columns', inplace=True)\n",
        "df.drop(labels= 9)"
      ],
      "execution_count": 92,
      "outputs": [
        {
          "output_type": "execute_result",
          "data": {
            "text/html": [
              "<div>\n",
              "<style scoped>\n",
              "    .dataframe tbody tr th:only-of-type {\n",
              "        vertical-align: middle;\n",
              "    }\n",
              "\n",
              "    .dataframe tbody tr th {\n",
              "        vertical-align: top;\n",
              "    }\n",
              "\n",
              "    .dataframe thead th {\n",
              "        text-align: right;\n",
              "    }\n",
              "</style>\n",
              "<table border=\"1\" class=\"dataframe\">\n",
              "  <thead>\n",
              "    <tr style=\"text-align: right;\">\n",
              "      <th>Teve dificuldade para respirar?</th>\n",
              "      <th>Respostas</th>\n",
              "      <th>Porcentagem (%)</th>\n",
              "    </tr>\n",
              "  </thead>\n",
              "  <tbody>\n",
              "    <tr>\n",
              "      <th>Não</th>\n",
              "      <td>378697</td>\n",
              "      <td>99.28</td>\n",
              "    </tr>\n",
              "    <tr>\n",
              "      <th>Sim</th>\n",
              "      <td>1538</td>\n",
              "      <td>0.40</td>\n",
              "    </tr>\n",
              "    <tr>\n",
              "      <th>Não Sabe</th>\n",
              "      <td>214</td>\n",
              "      <td>0.06</td>\n",
              "    </tr>\n",
              "  </tbody>\n",
              "</table>\n",
              "</div>"
            ],
            "text/plain": [
              "Teve dificuldade para respirar?  Respostas  Porcentagem (%)\n",
              "Não                                 378697            99.28\n",
              "Sim                                   1538             0.40\n",
              "Não Sabe                               214             0.06"
            ]
          },
          "metadata": {},
          "execution_count": 92
        }
      ]
    },
    {
      "cell_type": "markdown",
      "metadata": {
        "id": "uZLDJ5R0kyxu"
      },
      "source": [
        "**Perda de Paladar/Olfato**"
      ]
    },
    {
      "cell_type": "code",
      "metadata": {
        "colab": {
          "base_uri": "https://localhost:8080/",
          "height": 142
        },
        "id": "4K3RUpYMkfFp",
        "outputId": "07ab5216-3b88-4acd-8c45-8daafc9b898b"
      },
      "source": [
        "respostas  = dados.B00111.value_counts()\n",
        "percentual = dados.B00111.value_counts(normalize=True)*100\n",
        "percentual = round(percentual, 2)\n",
        "\n",
        "df = pd.DataFrame({'Respostas': respostas, 'Porcentagem (%)': percentual})\n",
        "df.rename(dicionario_febre, inplace=True)\n",
        "df.rename_axis('Teve perda de paladar e/ou olfato?', axis= 'columns', inplace=True)\n",
        "df.drop(labels= 9)"
      ],
      "execution_count": 108,
      "outputs": [
        {
          "output_type": "execute_result",
          "data": {
            "text/html": [
              "<div>\n",
              "<style scoped>\n",
              "    .dataframe tbody tr th:only-of-type {\n",
              "        vertical-align: middle;\n",
              "    }\n",
              "\n",
              "    .dataframe tbody tr th {\n",
              "        vertical-align: top;\n",
              "    }\n",
              "\n",
              "    .dataframe thead th {\n",
              "        text-align: right;\n",
              "    }\n",
              "</style>\n",
              "<table border=\"1\" class=\"dataframe\">\n",
              "  <thead>\n",
              "    <tr style=\"text-align: right;\">\n",
              "      <th>Teve perda de paladar e/ou olfato?</th>\n",
              "      <th>Respostas</th>\n",
              "      <th>Porcentagem (%)</th>\n",
              "    </tr>\n",
              "  </thead>\n",
              "  <tbody>\n",
              "    <tr>\n",
              "      <th>Não</th>\n",
              "      <td>378388</td>\n",
              "      <td>99.20</td>\n",
              "    </tr>\n",
              "    <tr>\n",
              "      <th>Sim</th>\n",
              "      <td>1467</td>\n",
              "      <td>0.38</td>\n",
              "    </tr>\n",
              "    <tr>\n",
              "      <th>Não Sabe</th>\n",
              "      <td>223</td>\n",
              "      <td>0.06</td>\n",
              "    </tr>\n",
              "  </tbody>\n",
              "</table>\n",
              "</div>"
            ],
            "text/plain": [
              "Teve perda de paladar e/ou olfato?  Respostas  Porcentagem (%)\n",
              "Não                                    378388            99.20\n",
              "Sim                                      1467             0.38\n",
              "Não Sabe                                  223             0.06"
            ]
          },
          "metadata": {},
          "execution_count": 108
        }
      ]
    },
    {
      "cell_type": "markdown",
      "metadata": {
        "id": "R3m1b2ghg5yi"
      },
      "source": [
        "### Das pessoas que buscaram atendimento, quantas recorreram a um hospital do  SUS?"
      ]
    },
    {
      "cell_type": "code",
      "metadata": {
        "colab": {
          "base_uri": "https://localhost:8080/",
          "height": 111
        },
        "id": "nxeO7vILgbb1",
        "outputId": "6ce1be61-4371-44c9-81ca-833ae4f97590"
      },
      "source": [
        "respostas = dados.B0043.value_counts()\n",
        "percentual = dados.B0043.value_counts(normalize=True)*100\n",
        "percentual = round(percentual, 2)\n",
        "\n",
        "df = pd.DataFrame({'Frequência': respostas, 'Porcentagem': percentual})\n",
        "df. rename({1: 'SUS', 2: 'Outros'}, inplace=True)\n",
        "df.drop(labels= 9, inplace=True)\n",
        "df"
      ],
      "execution_count": 97,
      "outputs": [
        {
          "output_type": "execute_result",
          "data": {
            "text/html": [
              "<div>\n",
              "<style scoped>\n",
              "    .dataframe tbody tr th:only-of-type {\n",
              "        vertical-align: middle;\n",
              "    }\n",
              "\n",
              "    .dataframe tbody tr th {\n",
              "        vertical-align: top;\n",
              "    }\n",
              "\n",
              "    .dataframe thead th {\n",
              "        text-align: right;\n",
              "    }\n",
              "</style>\n",
              "<table border=\"1\" class=\"dataframe\">\n",
              "  <thead>\n",
              "    <tr style=\"text-align: right;\">\n",
              "      <th></th>\n",
              "      <th>Frequência</th>\n",
              "      <th>Porcentagem</th>\n",
              "    </tr>\n",
              "  </thead>\n",
              "  <tbody>\n",
              "    <tr>\n",
              "      <th>Outros</th>\n",
              "      <td>3308</td>\n",
              "      <td>82.10</td>\n",
              "    </tr>\n",
              "    <tr>\n",
              "      <th>SUS</th>\n",
              "      <td>688</td>\n",
              "      <td>17.08</td>\n",
              "    </tr>\n",
              "  </tbody>\n",
              "</table>\n",
              "</div>"
            ],
            "text/plain": [
              "        Frequência  Porcentagem\n",
              "Outros        3308        82.10\n",
              "SUS            688        17.08"
            ]
          },
          "metadata": {},
          "execution_count": 97
        }
      ]
    },
    {
      "cell_type": "markdown",
      "metadata": {
        "id": "OpQwyxSwikZp"
      },
      "source": [
        "**Sexo das pessoas que preferiram o SUS**"
      ]
    },
    {
      "cell_type": "code",
      "metadata": {
        "colab": {
          "base_uri": "https://localhost:8080/",
          "height": 142
        },
        "id": "Q_DPsrwPh7dq",
        "outputId": "0f305524-8e93-476b-927a-ba11e2b767be"
      },
      "source": [
        "foram_ao_sus = pd.crosstab(dados.A003, dados.B0043)\n",
        "foram_ao_sus.drop(columns= 9, inplace=True)\n",
        "foram_ao_sus.rename(index= dicionario_sexo, inplace=True)\n",
        "foram_ao_sus.rename(columns= {1: 'SUS', 2: 'Outros'}, inplace=True)\n",
        "foram_ao_sus.rename_axis('Hospital', axis= 'columns', inplace=True)\n",
        "foram_ao_sus.rename_axis('Sexo', axis= 0, inplace=True)\n",
        "foram_ao_sus"
      ],
      "execution_count": 107,
      "outputs": [
        {
          "output_type": "execute_result",
          "data": {
            "text/html": [
              "<div>\n",
              "<style scoped>\n",
              "    .dataframe tbody tr th:only-of-type {\n",
              "        vertical-align: middle;\n",
              "    }\n",
              "\n",
              "    .dataframe tbody tr th {\n",
              "        vertical-align: top;\n",
              "    }\n",
              "\n",
              "    .dataframe thead th {\n",
              "        text-align: right;\n",
              "    }\n",
              "</style>\n",
              "<table border=\"1\" class=\"dataframe\">\n",
              "  <thead>\n",
              "    <tr style=\"text-align: right;\">\n",
              "      <th>Hospital</th>\n",
              "      <th>SUS</th>\n",
              "      <th>Outros</th>\n",
              "    </tr>\n",
              "    <tr>\n",
              "      <th>Sexo</th>\n",
              "      <th></th>\n",
              "      <th></th>\n",
              "    </tr>\n",
              "  </thead>\n",
              "  <tbody>\n",
              "    <tr>\n",
              "      <th>Homem</th>\n",
              "      <td>291</td>\n",
              "      <td>1366</td>\n",
              "    </tr>\n",
              "    <tr>\n",
              "      <th>Mulher</th>\n",
              "      <td>397</td>\n",
              "      <td>1942</td>\n",
              "    </tr>\n",
              "  </tbody>\n",
              "</table>\n",
              "</div>"
            ],
            "text/plain": [
              "Hospital  SUS  Outros\n",
              "Sexo                 \n",
              "Homem     291    1366\n",
              "Mulher    397    1942"
            ]
          },
          "metadata": {},
          "execution_count": 107
        }
      ]
    },
    {
      "cell_type": "code",
      "metadata": {
        "id": "H-EMZyLajWDA"
      },
      "source": [
        ""
      ],
      "execution_count": null,
      "outputs": []
    }
  ]
}